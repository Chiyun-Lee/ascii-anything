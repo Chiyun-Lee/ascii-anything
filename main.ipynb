{
 "cells": [
  {
   "cell_type": "code",
   "execution_count": 33,
   "metadata": {},
   "outputs": [],
   "source": [
    "from PIL import Image, ImageDraw, ImageFont, ImageEnhance\n",
    "\n",
    "# Expanded ASCII characters used for different levels of brightness\n",
    "ASCII_CHARS = \"$@B%8&WM#*oahkbdpqwmZO0QLCJUYXzcvunxrjft/|()1{}[]?-_+~<>i!lI;:,\\\"^`'. \"\n",
    "\n",
    "def resize_image(image, new_width=200):  # Increase the width for higher resolution\n",
    "    width, height = image.size\n",
    "    aspect_ratio = height / width\n",
    "    new_height = int(aspect_ratio * new_width * 0.55)  # Adjust aspect ratio to match font aspect ratio\n",
    "    resized_image = image.resize((new_width, new_height))\n",
    "    return resized_image\n",
    "\n",
    "def enhance_contrast(image, factor=2.0):  # Increase contrast\n",
    "    enhancer = ImageEnhance.Contrast(image)\n",
    "    return enhancer.enhance(factor)\n",
    "\n",
    "def grayscale_image(image):\n",
    "    return image.convert(\"L\")\n",
    "\n",
    "def pixel_to_ascii(pixel_value):\n",
    "    return ASCII_CHARS[pixel_value * len(ASCII_CHARS) // 256]\n",
    "\n",
    "def image_to_ascii(image, new_width=200):  # Increase the width for higher resolution\n",
    "    image = resize_image(image, new_width)\n",
    "    image = grayscale_image(image)\n",
    "    image = enhance_contrast(image)  # Apply contrast enhancement\n",
    "    ascii_str = \"\"\n",
    "    for y in range(image.height):\n",
    "        for x in range(image.width):\n",
    "            pixel_value = image.getpixel((x, y))\n",
    "            ascii_str += pixel_to_ascii(pixel_value)\n",
    "        ascii_str += \"\\n\"\n",
    "    return ascii_str\n",
    "\n",
    "def draw_ascii_to_image(ascii_str, font_path=\"cour.ttf\", font_size=15):  # Increase font size for higher resolution\n",
    "    lines = ascii_str.split('\\n')\n",
    "    max_width = max(len(line) for line in lines)\n",
    "    max_height = len(lines)\n",
    "\n",
    "    # Create a new image with white background\n",
    "    image = Image.new('RGB', (max_width * font_size, max_height * font_size), color='white')\n",
    "    draw = ImageDraw.Draw(image)\n",
    "\n",
    "    try:\n",
    "        font = ImageFont.truetype(font_path, font_size)\n",
    "    except IOError:\n",
    "        font = ImageFont.load_default()\n",
    "\n",
    "    # Draw text\n",
    "    y = 0\n",
    "    for line in lines:\n",
    "        draw.text((0, y), line, font=font, fill='black')\n",
    "        y += font_size\n",
    "\n",
    "    return image\n",
    "\n",
    "def main(image_path, output_width=200, output_file=\"ascii_art.png\"):  # Increase output width for higher resolution\n",
    "    try:\n",
    "        image = Image.open(image_path)\n",
    "    except Exception as e:\n",
    "        print(f\"Unable to open image file: {e}\")\n",
    "        return\n",
    "\n",
    "    ascii_art = image_to_ascii(image, output_width)\n",
    "\n",
    "    # Draw ASCII art to an image\n",
    "    ascii_image = draw_ascii_to_image(ascii_art)\n",
    "    ascii_image.save(output_file)\n",
    "    print(f\"ASCII art saved to {output_file}\")"
   ]
  },
  {
   "cell_type": "code",
   "execution_count": 39,
   "metadata": {},
   "outputs": [
    {
     "name": "stdout",
     "output_type": "stream",
     "text": [
      "ASCII art saved to ascii_art.png\n"
     ]
    }
   ],
   "source": [
    "main(\"input4.jpg\")"
   ]
  },
  {
   "cell_type": "code",
   "execution_count": null,
   "metadata": {},
   "outputs": [],
   "source": []
  }
 ],
 "metadata": {
  "kernelspec": {
   "display_name": ".venv",
   "language": "python",
   "name": "python3"
  },
  "language_info": {
   "codemirror_mode": {
    "name": "ipython",
    "version": 3
   },
   "file_extension": ".py",
   "mimetype": "text/x-python",
   "name": "python",
   "nbconvert_exporter": "python",
   "pygments_lexer": "ipython3",
   "version": "3.12.4"
  }
 },
 "nbformat": 4,
 "nbformat_minor": 2
}
